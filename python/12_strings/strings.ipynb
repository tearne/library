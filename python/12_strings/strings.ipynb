{
 "cells": [
  {
   "cell_type": "markdown",
   "metadata": {},
   "source": [
    "# Strings are Strange\n",
    "We will explore\n",
    "* what it means for strings to be the \"same\",\n",
    "* some optimisation things,\n",
    "* immutability,\n",
    "\n",
    "and conclude that none of it really matters, mostly.\n",
    "\n",
    "The idea is to motivate why languages might choose to handle string differently.\n",
    "\n",
    "## Sameness"
   ]
  },
  {
   "cell_type": "code",
   "execution_count": 2,
   "metadata": {},
   "outputs": [
    {
     "name": "stdout",
     "output_type": "stream",
     "text": [
      "(x == y) == True\n",
      "(x is y) == True\n",
      "   id(x) == 5408\n",
      "   id(y) == 5408\n"
     ]
    }
   ],
   "source": [
    "x = \"Hello\"\n",
    "y = \"Hello\"\n",
    "\n",
    "print(f\"(x == y) == {x == y}\")\n",
    "print(f\"(x is y) == {x is y}\")\n",
    "\n",
    "print(f\"   id(x) == {id(x) % 10000}\")\n",
    "print(f\"   id(y) == {id(y) % 10000}\")"
   ]
  },
  {
   "cell_type": "markdown",
   "metadata": {},
   "source": [
    "Does anything here stike you as a bit odd?"
   ]
  },
  {
   "cell_type": "code",
   "execution_count": 3,
   "metadata": {},
   "outputs": [
    {
     "name": "stdout",
     "output_type": "stream",
     "text": [
      "(x == y) == True\n",
      "(x is y) == True\n"
     ]
    }
   ],
   "source": [
    "# Compile time optimisation (peep-hole/AST)\n",
    "x = \"Hello\"\n",
    "y = \"Hell\" + \"o\"\n",
    "\n",
    "print(f\"(x == y) == {x == y}\")\n",
    "print(f\"(x is y) == {x is y}\")"
   ]
  },
  {
   "cell_type": "code",
   "execution_count": 4,
   "metadata": {},
   "outputs": [
    {
     "name": "stdout",
     "output_type": "stream",
     "text": [
      "(x == y) == True\n",
      "(x is y) == False\n"
     ]
    }
   ],
   "source": [
    "# Runtime equivalance?\n",
    "x = \"Hello\"\n",
    "y = \"Hell\"\n",
    "y = y + \"o\"\n",
    "\n",
    "print(f\"(x == y) == {x == y}\")\n",
    "print(f\"(x is y) == {x is y}\")"
   ]
  },
  {
   "cell_type": "code",
   "execution_count": 7,
   "metadata": {},
   "outputs": [
    {
     "name": "stdout",
     "output_type": "stream",
     "text": [
      "  5           0 LOAD_CONST               1 ('Hello')\n",
      "              2 STORE_FAST               0 (x)\n",
      "\n",
      "  6           4 LOAD_CONST               1 ('Hello')\n",
      "              6 STORE_FAST               1 (y)\n",
      "              8 LOAD_CONST               0 (None)\n",
      "             10 RETURN_VALUE\n"
     ]
    }
   ],
   "source": [
    "# Look at the bytecode\n",
    "import dis\n",
    "\n",
    "def some_code():\n",
    "    x = \"Hello\"\n",
    "    y = \"Hell\" + \"o\"\n",
    "\n",
    "dis.dis(some_code)"
   ]
  },
  {
   "cell_type": "markdown",
   "metadata": {},
   "source": [
    "## String Interning"
   ]
  },
  {
   "cell_type": "markdown",
   "metadata": {},
   "source": [
    "**Source code** --> (Compiler) --> **bytecode** --> (Interpreter) --> **runtime**"
   ]
  },
  {
   "cell_type": "code",
   "execution_count": 10,
   "metadata": {},
   "outputs": [
    {
     "name": "stdout",
     "output_type": "stream",
     "text": [
      "(x == y) == True\n",
      "(x is y) == False\n"
     ]
    }
   ],
   "source": [
    "# Explicit interning\n",
    "import sys\n",
    "\n",
    "x = \"Hello\"\n",
    "y = \"Hell\"\n",
    "y = y + \"o\"\n",
    "\n",
    "#y = sys.intern(y)   # <---- the new bit\n",
    "\n",
    "print(f\"(x == y) == {x == y}\")\n",
    "print(f\"(x is y) == {x is y}\")"
   ]
  },
  {
   "cell_type": "markdown",
   "metadata": {},
   "source": [
    "### String Pools\n",
    "A lookup table, so strings can be compared simply by number.\n",
    "|string  |reference|\n",
    "|--------|---------|\n",
    "|\"Hello\" |39       |\n",
    "|\"World\" |74       |\n",
    "|\"Cheese\"|15       |\n",
    "|\"Cake\"  |52       |"
   ]
  },
  {
   "cell_type": "markdown",
   "metadata": {},
   "source": [
    "### Conditions for implicit interning"
   ]
  },
  {
   "cell_type": "code",
   "execution_count": 11,
   "metadata": {},
   "outputs": [
    {
     "name": "stdout",
     "output_type": "stream",
     "text": [
      "(x == y) == True\n",
      "(x is y) == True\n"
     ]
    }
   ],
   "source": [
    "# Back to basics\n",
    "x = \"Hello\"\n",
    "y = \"Hello\"\n",
    "\n",
    "print(f\"(x == y) == {x == y}\")\n",
    "print(f\"(x is y) == {x is y}\")"
   ]
  },
  {
   "cell_type": "code",
   "execution_count": 12,
   "metadata": {},
   "outputs": [
    {
     "name": "stdout",
     "output_type": "stream",
     "text": [
      "(x == y) == True\n",
      "(x is y) == False\n"
     ]
    }
   ],
   "source": [
    "# Added some special chars (',', ' ', & '!')\n",
    "x = \"Hello, World!\"\n",
    "y = \"Hello, World!\"\n",
    "\n",
    "print(f\"(x == y) == {x == y}\")\n",
    "print(f\"(x is y) == {x is y}\")"
   ]
  },
  {
   "cell_type": "code",
   "execution_count": 16,
   "metadata": {},
   "outputs": [
    {
     "name": "stdout",
     "output_type": "stream",
     "text": [
      "(x == y) == True\n",
      "(x is y) == True\n"
     ]
    }
   ],
   "source": [
    "# Stop implicit interning with long strings\n",
    "x = \"0123456789\"*409\n",
    "y = \"0123456789\"*409\n",
    "\n",
    "print(f\"(x == y) == {x == y}\")\n",
    "print(f\"(x is y) == {x is y}\")"
   ]
  },
  {
   "cell_type": "markdown",
   "metadata": {},
   "source": [
    "*This is fabulous, but, so what?*"
   ]
  },
  {
   "cell_type": "markdown",
   "metadata": {},
   "source": [
    "### Performance implications"
   ]
  },
  {
   "cell_type": "code",
   "execution_count": 21,
   "metadata": {},
   "outputs": [
    {
     "data": {
      "text/plain": [
       "0.9701649939524941"
      ]
     },
     "execution_count": 21,
     "metadata": {},
     "output_type": "execute_result"
    }
   ],
   "source": [
    "import sys\n",
    "import time\n",
    "\n",
    "x = \"The quick brown fox jumps over the lazy programmer. \"*400\n",
    "y = \"The quick brown fox jumps over the lazy programmer. \"*400\n",
    "\n",
    "# x = sys.intern(x)\n",
    "# y = sys.intern(y)\n",
    "\n",
    "start = time.perf_counter()\n",
    "\n",
    "for _ in range(1000000):\n",
    "    x == y\n",
    "\n",
    "time.perf_counter() - start"
   ]
  },
  {
   "cell_type": "markdown",
   "metadata": {},
   "source": [
    "# String Immutability\n",
    "Immutable == unalterable"
   ]
  },
  {
   "cell_type": "code",
   "execution_count": 22,
   "metadata": {},
   "outputs": [
    {
     "data": {
      "text/plain": [
       "'Hello, world!'"
      ]
     },
     "execution_count": 22,
     "metadata": {},
     "output_type": "execute_result"
    }
   ],
   "source": [
    "x = \"Hello, world!\"\n",
    "y = x\n",
    "\n",
    "x = \"Cake\"\n",
    "\n",
    "y"
   ]
  },
  {
   "cell_type": "code",
   "execution_count": 23,
   "metadata": {},
   "outputs": [
    {
     "ename": "TypeError",
     "evalue": "'str' object does not support item assignment",
     "output_type": "error",
     "traceback": [
      "\u001b[0;31m---------------------------------------------------------------------------\u001b[0m",
      "\u001b[0;31mTypeError\u001b[0m                                 Traceback (most recent call last)",
      "\u001b[1;32m/home/olivertearne/_OT/CODE/library/python/12_strings/strings.ipynb Cell 20\u001b[0m in \u001b[0;36m<cell line: 3>\u001b[0;34m()\u001b[0m\n\u001b[1;32m      <a href='vscode-notebook-cell://ssh-remote%2Branch-250/home/olivertearne/_OT/CODE/library/python/12_strings/strings.ipynb#X24sdnNjb2RlLXJlbW90ZQ%3D%3D?line=0'>1</a>\u001b[0m \u001b[39m# Mutate at index?\u001b[39;00m\n\u001b[1;32m      <a href='vscode-notebook-cell://ssh-remote%2Branch-250/home/olivertearne/_OT/CODE/library/python/12_strings/strings.ipynb#X24sdnNjb2RlLXJlbW90ZQ%3D%3D?line=1'>2</a>\u001b[0m x \u001b[39m=\u001b[39m \u001b[39m\"\u001b[39m\u001b[39mHello, world!\u001b[39m\u001b[39m\"\u001b[39m\n\u001b[0;32m----> <a href='vscode-notebook-cell://ssh-remote%2Branch-250/home/olivertearne/_OT/CODE/library/python/12_strings/strings.ipynb#X24sdnNjb2RlLXJlbW90ZQ%3D%3D?line=2'>3</a>\u001b[0m x[\u001b[39m0\u001b[39;49m] \u001b[39m=\u001b[39m \u001b[39m\"\u001b[39m\u001b[39mh\u001b[39m\u001b[39m\"\u001b[39m\n\u001b[1;32m      <a href='vscode-notebook-cell://ssh-remote%2Branch-250/home/olivertearne/_OT/CODE/library/python/12_strings/strings.ipynb#X24sdnNjb2RlLXJlbW90ZQ%3D%3D?line=3'>4</a>\u001b[0m x\n",
      "\u001b[0;31mTypeError\u001b[0m: 'str' object does not support item assignment"
     ]
    }
   ],
   "source": [
    "# Mutate at index?\n",
    "x = \"Hello, world!\"\n",
    "x[0] = \"h\"\n",
    "x"
   ]
  },
  {
   "cell_type": "code",
   "execution_count": 24,
   "metadata": {},
   "outputs": [
    {
     "name": "stdout",
     "output_type": "stream",
     "text": [
      "Before: id == 512\n",
      " After: id == 8880\n"
     ]
    }
   ],
   "source": [
    "# Concatenate?\n",
    "x = \"Hello, World!\"\n",
    "print(f\"Before: id == {id(x) % 10000}\")\n",
    "\n",
    "x += \" ...?\"\n",
    "print(f\" After: id == {id(x) % 10000}\")"
   ]
  },
  {
   "cell_type": "code",
   "execution_count": 30,
   "metadata": {},
   "outputs": [
    {
     "name": "stdout",
     "output_type": "stream",
     "text": [
      "Before: id == 6688\n",
      " After: id == 6192\n"
     ]
    }
   ],
   "source": [
    "# CPython optimises if buffer big enough and no other references\n",
    "print(f\"Before: id == {id(x) % 10000}\")\n",
    "\n",
    "x += \" ...!\"\n",
    "print(f\" After: id == {id(x) % 10000}\")"
   ]
  },
  {
   "cell_type": "markdown",
   "metadata": {},
   "source": [
    "What if we run the above block repeatedly?"
   ]
  },
  {
   "cell_type": "markdown",
   "metadata": {},
   "source": [
    "# Conclusions"
   ]
  },
  {
   "cell_type": "markdown",
   "metadata": {},
   "source": [
    "* String literals are immutable, ***mostly***.\n",
    "  - e.g. concatenation in an ample buffer"
   ]
  },
  {
   "cell_type": "markdown",
   "metadata": {},
   "source": [
    "* Constant string expressions ***might*** be optimised at compile-time."
   ]
  },
  {
   "cell_type": "markdown",
   "metadata": {},
   "source": [
    "* String literals are interned at compile-time, ***sometimes***.\n",
    "  - e.g. < 4096 characters, and no special characters"
   ]
  },
  {
   "cell_type": "markdown",
   "metadata": {},
   "source": [
    "* You can explicitly **intern** strings with `sys.intern()` to make comparisons super fast, \n",
    "  - **but** it might become slow and/or memory hungry."
   ]
  },
  {
   "cell_type": "markdown",
   "metadata": {},
   "source": [
    "* None of this really matters, \n",
    "  - **except** for when it does."
   ]
  },
  {
   "cell_type": "markdown",
   "metadata": {},
   "source": [
    "### When does all this matter?\n",
    "\n",
    "When you need:\n",
    "* The best speed possible.\n",
    "* Consistency of behaviour.\n",
    "* To run on hardware with constrained resources."
   ]
  }
 ],
 "metadata": {
  "kernelspec": {
   "display_name": "Python 3.8.10 64-bit",
   "language": "python",
   "name": "python3"
  },
  "language_info": {
   "codemirror_mode": {
    "name": "ipython",
    "version": 3
   },
   "file_extension": ".py",
   "mimetype": "text/x-python",
   "name": "python",
   "nbconvert_exporter": "python",
   "pygments_lexer": "ipython3",
   "version": "3.8.10"
  },
  "orig_nbformat": 4,
  "vscode": {
   "interpreter": {
    "hash": "916dbcbb3f70747c44a77c7bcd40155683ae19c65e1c03b4aa3499c5328201f1"
   }
  }
 },
 "nbformat": 4,
 "nbformat_minor": 2
}
