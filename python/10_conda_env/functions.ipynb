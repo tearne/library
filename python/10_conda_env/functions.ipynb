{
 "cells": [
  {
   "cell_type": "code",
   "execution_count": 16,
   "metadata": {},
   "outputs": [
    {
     "data": {
      "text/plain": [
       "<function __main__.my_func(n)>"
      ]
     },
     "execution_count": 16,
     "metadata": {},
     "output_type": "execute_result"
    }
   ],
   "source": [
    "# A function \n",
    "def my_func(n):\n",
    "    print(f\"Your number is {n}\")\n",
    "\n",
    "my_func"
   ]
  },
  {
   "cell_type": "code",
   "execution_count": 17,
   "metadata": {},
   "outputs": [
    {
     "name": "stdout",
     "output_type": "stream",
     "text": [
      "Your number is 3\n"
     ]
    }
   ],
   "source": [
    "# First class\n",
    "def go(a,b):\n",
    "    a(b)\n",
    "\n",
    "go(my_func, 3)"
   ]
  },
  {
   "cell_type": "code",
   "execution_count": 18,
   "metadata": {},
   "outputs": [
    {
     "name": "stdout",
     "output_type": "stream",
     "text": [
      "The number is {n}\n"
     ]
    }
   ],
   "source": [
    "# A lambda\n",
    "my_lambda = lambda n: print(f\"The number is {n}\")\n",
    "\n",
    "go(my_lambda, 4)"
   ]
  },
  {
   "cell_type": "code",
   "execution_count": 19,
   "metadata": {},
   "outputs": [
    {
     "data": {
      "text/plain": [
       "100"
      ]
     },
     "execution_count": 19,
     "metadata": {},
     "output_type": "execute_result"
    }
   ],
   "source": [
    "# Adding up numbers\n",
    "numbers = [10, 20, 30, 40]\n",
    "sum(numbers)"
   ]
  },
  {
   "cell_type": "code",
   "execution_count": 21,
   "metadata": {},
   "outputs": [
    {
     "data": {
      "text/plain": [
       "100"
      ]
     },
     "execution_count": 21,
     "metadata": {},
     "output_type": "execute_result"
    }
   ],
   "source": [
    "# Adding up with a loop\n",
    "acc = 0\n",
    "for n in numbers:\n",
    "    acc += n\n",
    "\n",
    "acc"
   ]
  },
  {
   "cell_type": "code",
   "execution_count": 33,
   "metadata": {},
   "outputs": [
    {
     "data": {
      "text/plain": [
       "100"
      ]
     },
     "execution_count": 33,
     "metadata": {},
     "output_type": "execute_result"
    }
   ],
   "source": [
    "# Adding up without mutation\n",
    "def sum_list(remaining, acc = 0):\n",
    "    head, *tail = remaining\n",
    "\n",
    "    if len(tail) > 0:\n",
    "        return sum_list(tail, acc + head)\n",
    "    else:\n",
    "        return acc + head\n",
    "\n",
    "sum_list(numbers)"
   ]
  },
  {
   "cell_type": "code",
   "execution_count": 51,
   "metadata": {},
   "outputs": [
    {
     "data": {
      "text/plain": [
       "45"
      ]
     },
     "execution_count": 51,
     "metadata": {},
     "output_type": "execute_result"
    }
   ],
   "source": [
    "more_numbers = list(range(1,10))\n",
    "sum_list(more_numbers)"
   ]
  }
 ],
 "metadata": {
  "interpreter": {
   "hash": "bca2a839f8ca94e942fd942a7f848f510b057db7568360401955d27deb0425e6"
  },
  "kernelspec": {
   "display_name": "Python 3.10.4 64-bit ('env_test')",
   "language": "python",
   "name": "python3"
  },
  "language_info": {
   "codemirror_mode": {
    "name": "ipython",
    "version": 3
   },
   "file_extension": ".py",
   "mimetype": "text/x-python",
   "name": "python",
   "nbconvert_exporter": "python",
   "pygments_lexer": "ipython3",
   "version": "3.10.4"
  },
  "orig_nbformat": 4
 },
 "nbformat": 4,
 "nbformat_minor": 2
}
