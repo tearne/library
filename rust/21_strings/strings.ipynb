{
 "cells": [
  {
   "cell_type": "markdown",
   "metadata": {},
   "source": [
    "# Strings are Strange\n",
    "We will explore\n",
    "* what it means for strings to be the \"same\",\n",
    "* some optimisation things,\n",
    "* immutability,\n",
    "\n",
    "and conclude that none of it really matters, mostly.\n",
    "\n",
    "The idea is to demonstrate that Rust having two kinds of string isn't crazy, despite confusing newcomers.\n",
    "\n",
    "## Sameness"
   ]
  },
  {
   "cell_type": "code",
   "execution_count": null,
   "metadata": {},
   "outputs": [],
   "source": [
    "x = \"Hello\"\n",
    "y = \"Hello\"\n",
    "\n",
    "print(f\"(x == y) == {x == y}\")\n",
    "print(f\"(x is y) == {x is y}\")\n",
    "\n",
    "print(f\"   id(x) == {id(x) % 10000}\")\n",
    "print(f\"   id(y) == {id(y) % 10000}\")"
   ]
  },
  {
   "cell_type": "markdown",
   "metadata": {},
   "source": [
    "Does any of this seem a bit odd?\n",
    "\n",
    "What if we put a \"!\" on the end of the strings?"
   ]
  },
  {
   "cell_type": "code",
   "execution_count": null,
   "metadata": {},
   "outputs": [],
   "source": [
    "# Compile time optimisation (peep-hole/AST)\n",
    "x = \"Hello\"\n",
    "y = \"Hell\" + \"o\"\n",
    "\n",
    "print(f\"(x == y) == {x == y}\")\n",
    "print(f\"(x is y) == {x is y}\")"
   ]
  },
  {
   "cell_type": "code",
   "execution_count": null,
   "metadata": {},
   "outputs": [],
   "source": [
    "# Runtime equivalance?\n",
    "x = \"Hello\"\n",
    "y = \"Hell\"\n",
    "y = y + \"o\"\n",
    "\n",
    "print(f\"(x == y) == {x == y}\")\n",
    "print(f\"(x is y) == {x is y}\")"
   ]
  },
  {
   "cell_type": "code",
   "execution_count": null,
   "metadata": {},
   "outputs": [],
   "source": [
    "# Look at the bytecode\n",
    "import dis\n",
    "\n",
    "def some_code():\n",
    "    x = \"Hello\"\n",
    "    y = \"Hello\"\n",
    "\n",
    "dis.dis(some_code)"
   ]
  },
  {
   "cell_type": "markdown",
   "metadata": {},
   "source": [
    "## String Interning"
   ]
  },
  {
   "cell_type": "code",
   "execution_count": null,
   "metadata": {},
   "outputs": [],
   "source": [
    "# Explicit interning\n",
    "import sys\n",
    "\n",
    "x = \"Hello\"\n",
    "y = \"Hell\"\n",
    "y = y + \"o\"\n",
    "\n",
    "y = sys.intern(y)   # <---- the new bit\n",
    "\n",
    "print(f\"(x == y) == {x == y}\")\n",
    "print(f\"(x is y) == {x is y}\")"
   ]
  },
  {
   "cell_type": "markdown",
   "metadata": {},
   "source": [
    "### String Pools\n",
    "A lookup table, so strings can be compared simply by number.\n",
    "|string  |reference|\n",
    "|--------|---------|\n",
    "|\"Hello\" |39       |\n",
    "|\"World\" |74       |\n",
    "|\"Cheese\"|15       |\n",
    "|\"Cake\"  |52       |"
   ]
  },
  {
   "cell_type": "markdown",
   "metadata": {},
   "source": [
    "### Conditions for implicit interning"
   ]
  },
  {
   "cell_type": "code",
   "execution_count": null,
   "metadata": {},
   "outputs": [],
   "source": [
    "# Back to basics\n",
    "x = \"Hello\"\n",
    "y = \"Hello\"\n",
    "\n",
    "print(f\"(x == y) == {x == y}\")\n",
    "print(f\"(x is y) == {x is y}\")"
   ]
  },
  {
   "cell_type": "code",
   "execution_count": null,
   "metadata": {},
   "outputs": [],
   "source": [
    "# Added some special chars (',', ' ', & '!')\n",
    "x = \"Hello, World!\"\n",
    "y = \"Hello, World!\"\n",
    "\n",
    "print(f\"(x == y) == {x == y}\")\n",
    "print(f\"(x is y) == {x is y}\")"
   ]
  },
  {
   "cell_type": "code",
   "execution_count": null,
   "metadata": {},
   "outputs": [],
   "source": [
    "# Stop implicit interning with long strings\n",
    "x = \"0123456789\"*409\n",
    "y = \"0123456789\"*409\n",
    "\n",
    "print(f\"(x == y) == {x == y}\")\n",
    "print(f\"(x is y) == {x is y}\")"
   ]
  },
  {
   "cell_type": "markdown",
   "metadata": {},
   "source": [
    "This is fabulous, but, so what?"
   ]
  },
  {
   "cell_type": "markdown",
   "metadata": {},
   "source": [
    "### Performance implications"
   ]
  },
  {
   "cell_type": "code",
   "execution_count": null,
   "metadata": {},
   "outputs": [],
   "source": [
    "import sys\n",
    "import time\n",
    "\n",
    "x = \"The quick brown fox jumps over the lazy programmer. \"*400\n",
    "y = \"The quick brown fox jumps over the lazy programmer. \"*400\n",
    "\n",
    "# x = sys.intern(x)\n",
    "# y = sys.intern(y)\n",
    "\n",
    "start = time.perf_counter()\n",
    "\n",
    "for _ in range(1000000):\n",
    "    x == y\n",
    "\n",
    "time.perf_counter() - start"
   ]
  },
  {
   "cell_type": "markdown",
   "metadata": {},
   "source": [
    "# String Immutability\n",
    "Immutable == unalterable"
   ]
  },
  {
   "cell_type": "code",
   "execution_count": null,
   "metadata": {},
   "outputs": [],
   "source": [
    "x = \"Hello, world!\"\n",
    "y = x\n",
    "\n",
    "x = \"Cake\"\n",
    "\n",
    "y"
   ]
  },
  {
   "cell_type": "code",
   "execution_count": null,
   "metadata": {},
   "outputs": [],
   "source": [
    "# Mutate at index?\n",
    "x = \"Hello, world!\"\n",
    "x[0] = \"h\"\n",
    "x"
   ]
  },
  {
   "cell_type": "code",
   "execution_count": null,
   "metadata": {},
   "outputs": [],
   "source": [
    "# Concatenate?\n",
    "x = \"Hello, World!\"\n",
    "print(f\"Before: id == {id(x) % 10000}\")\n",
    "\n",
    "x += \" ...?\"\n",
    "print(f\" After: id == {id(x) % 10000}\")"
   ]
  },
  {
   "cell_type": "code",
   "execution_count": null,
   "metadata": {},
   "outputs": [],
   "source": [
    "# CPython optimises if buffer big enough and no other references\n",
    "print(f\"Before: id == {id(x) % 10000}\")\n",
    "\n",
    "x += \" ...!\"\n",
    "print(f\" After: id == {id(x) % 10000}\")"
   ]
  },
  {
   "cell_type": "markdown",
   "metadata": {},
   "source": [
    "What if we run the above block repeatedly?"
   ]
  },
  {
   "cell_type": "markdown",
   "metadata": {},
   "source": [
    "# Conclusions"
   ]
  },
  {
   "cell_type": "markdown",
   "metadata": {},
   "source": [
    "* String literals are immutable, *mostly*.\n",
    "  - e.g. concatenation in an ample buffer"
   ]
  },
  {
   "cell_type": "markdown",
   "metadata": {},
   "source": [
    "* Constant string expressions *might* be optimised at compile-time."
   ]
  },
  {
   "cell_type": "markdown",
   "metadata": {},
   "source": [
    "* String literals are interned at compile-time, *sometimes*.\n",
    "  - e.g. < 4096 characters, and no special characters"
   ]
  },
  {
   "cell_type": "markdown",
   "metadata": {},
   "source": [
    "* You can *explicitly* intern strings with `sys.intern()` to make comparisons super fast, \n",
    "  - or possibly slow and memory hungry."
   ]
  },
  {
   "cell_type": "markdown",
   "metadata": {},
   "source": [
    "* None of this really matters, \n",
    "  - except for when it does."
   ]
  },
  {
   "cell_type": "markdown",
   "metadata": {},
   "source": [
    "### When does all this matter?\n",
    "\n",
    "When you need:\n",
    "* The best speed possible.\n",
    "* Consistency of behaviour.\n",
    "* To run on hardware with constrained resources."
   ]
  }
 ],
 "metadata": {
  "kernelspec": {
   "display_name": "Python 3.10.5 ('demo')",
   "language": "python",
   "name": "python3"
  },
  "language_info": {
   "codemirror_mode": {
    "name": "ipython",
    "version": 3
   },
   "file_extension": ".py",
   "mimetype": "text/x-python",
   "name": "python",
   "nbconvert_exporter": "python",
   "pygments_lexer": "ipython3",
   "version": "3.10.5"
  },
  "orig_nbformat": 4,
  "vscode": {
   "interpreter": {
    "hash": "eddfc21da5bb0613442fab01857c3987102859b6b38a9fc1725e511c43608917"
   }
  }
 },
 "nbformat": 4,
 "nbformat_minor": 2
}
