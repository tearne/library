{
 "cells": [
  {
   "cell_type": "code",
   "execution_count": 151,
   "metadata": {},
   "outputs": [],
   "source": [
    "import sys"
   ]
  },
  {
   "cell_type": "code",
   "execution_count": null,
   "metadata": {},
   "outputs": [],
   "source": [
    "x = \"hello\"\n",
    "y = \"hello\"\n",
    "\n",
    "print(f\"(x == y) == {x == y}\")\n",
    "print(f\"(x is y) == {x is y}\")"
   ]
  },
  {
   "cell_type": "code",
   "execution_count": null,
   "metadata": {},
   "outputs": [],
   "source": [
    "print(f\"   id(x) == {id(x) % 10000}\")\n",
    "print(f\"   id(y) == {id(y) % 10000}\")"
   ]
  },
  {
   "cell_type": "code",
   "execution_count": 154,
   "metadata": {},
   "outputs": [
    {
     "name": "stdout",
     "output_type": "stream",
     "text": [
      "(x == y) == True\n",
      "(x is y) == True\n"
     ]
    }
   ],
   "source": [
    "# Peep-hole optimisation (compile time)\n",
    "x = \"hello\"\n",
    "y = \"hell\" + \"o\"\n",
    "\n",
    "print(f\"(x == y) == {x == y}\")\n",
    "print(f\"(x is y) == {x is y}\")"
   ]
  },
  {
   "cell_type": "code",
   "execution_count": 155,
   "metadata": {},
   "outputs": [
    {
     "name": "stdout",
     "output_type": "stream",
     "text": [
      "(x == y) == True\n",
      "(x is y) == False\n",
      "   id(x) == 3936\n",
      "   id(y) == 6624\n"
     ]
    }
   ],
   "source": [
    "# Runtime equivalance?\n",
    "x = \"hello\"\n",
    "y = \"hell\"\n",
    "y = y + \"o\"\n",
    "\n",
    "print(f\"(x == y) == {x == y}\")\n",
    "print(f\"(x is y) == {x is y}\")\n",
    "print(f\"   id(x) == {id(x) % 10000}\")\n",
    "print(f\"   id(y) == {id(y) % 10000}\")"
   ]
  },
  {
   "cell_type": "code",
   "execution_count": 156,
   "metadata": {},
   "outputs": [
    {
     "name": "stdout",
     "output_type": "stream",
     "text": [
      "(x == y) == True\n",
      "(x is y) == True\n"
     ]
    }
   ],
   "source": [
    "# Interning (runtime)\n",
    "x = \"hello\"\n",
    "y = \"hell\"\n",
    "y = y + \"o\"\n",
    "y = sys.intern(y)\n",
    "\n",
    "print(f\"(x == y) == {x == y}\")\n",
    "print(f\"(x is y) == {x is y}\")"
   ]
  },
  {
   "cell_type": "markdown",
   "metadata": {},
   "source": [
    "|string  |reference|\n",
    "|--------|---------|\n",
    "|\"hello\" |39       |\n",
    "|\"world\" |74       |\n",
    "|\"cheese\"|15       |\n",
    "|\"cake\"  |52       |"
   ]
  },
  {
   "cell_type": "code",
   "execution_count": 157,
   "metadata": {},
   "outputs": [
    {
     "name": "stdout",
     "output_type": "stream",
     "text": [
      "(x == y) == True\n",
      "(x is y) == True\n"
     ]
    }
   ],
   "source": [
    "# Back to basics\n",
    "x = \"Hello\"\n",
    "y = \"Hello\"\n",
    "\n",
    "print(f\"(x == y) == {x == y}\")\n",
    "print(f\"(x is y) == {x is y}\")"
   ]
  },
  {
   "cell_type": "code",
   "execution_count": 158,
   "metadata": {},
   "outputs": [
    {
     "name": "stdout",
     "output_type": "stream",
     "text": [
      "(x == y) == True\n",
      "(x is y) == False\n"
     ]
    }
   ],
   "source": [
    "# Clobber interning\n",
    "x = \"Hello, World!\"\n",
    "y = \"Hello, World!\"\n",
    "\n",
    "print(f\"(x == y) == {x == y}\")\n",
    "print(f\"(x is y) == {x is y}\")"
   ]
  },
  {
   "cell_type": "code",
   "execution_count": 166,
   "metadata": {},
   "outputs": [
    {
     "data": {
      "text/plain": [
       "8.617228435003199"
      ]
     },
     "execution_count": 166,
     "metadata": {},
     "output_type": "execute_result"
    }
   ],
   "source": [
    "import time\n",
    "\n",
    "x = \"The quick brown fox jumps over the lazy programmer\"*1000\n",
    "y = \"The quick brown fox jumps over the lazy programmer\"*1000\n",
    "\n",
    "# a = sys.intern(a)\n",
    "# b = sys.intern(b)\n",
    "\n",
    "counter = 0\n",
    "start = time.perf_counter()\n",
    "\n",
    "for _ in range(1000000):\n",
    "    x == y\n",
    "\n",
    "time.perf_counter() - start"
   ]
  },
  {
   "cell_type": "code",
   "execution_count": 167,
   "metadata": {},
   "outputs": [
    {
     "data": {
      "text/plain": [
       "'Hello, world!'"
      ]
     },
     "execution_count": 167,
     "metadata": {},
     "output_type": "execute_result"
    }
   ],
   "source": [
    "x = \"Hello, world!\"\n",
    "y = x\n",
    "\n",
    "x = \"Cake\"\n",
    "\n",
    "y"
   ]
  },
  {
   "cell_type": "code",
   "execution_count": 168,
   "metadata": {},
   "outputs": [
    {
     "data": {
      "text/plain": [
       "3"
      ]
     },
     "execution_count": 168,
     "metadata": {},
     "output_type": "execute_result"
    }
   ],
   "source": [
    "x = 3\n",
    "y = x\n",
    "\n",
    "x = 2\n",
    "\n",
    "y"
   ]
  },
  {
   "cell_type": "code",
   "execution_count": 170,
   "metadata": {},
   "outputs": [
    {
     "data": {
      "text/plain": [
       "[2]"
      ]
     },
     "execution_count": 170,
     "metadata": {},
     "output_type": "execute_result"
    }
   ],
   "source": [
    "x = [1]\n",
    "y = x\n",
    "\n",
    "x[0] = 2\n",
    "\n",
    "y"
   ]
  },
  {
   "cell_type": "code",
   "execution_count": 178,
   "metadata": {},
   "outputs": [
    {
     "name": "stdout",
     "output_type": "stream",
     "text": [
      "   id(x) == 6560\n",
      "   id(x) == 6368\n"
     ]
    }
   ],
   "source": [
    "x = \"Hello, World!\"\n",
    "y = \"Hello, World!\"\n",
    "print(f\"   id(x) == {id(x) % 10000}\")\n",
    "\n",
    "x += \"?\"\n",
    "print(f\"   id(x) == {id(x) % 10000}\")"
   ]
  },
  {
   "cell_type": "code",
   "execution_count": 194,
   "metadata": {},
   "outputs": [
    {
     "name": "stdout",
     "output_type": "stream",
     "text": [
      "          id(\"Hello\") == 256\n",
      "   id(\"Hello, World\") == 1840\n"
     ]
    }
   ],
   "source": [
    "# \"Strings are immutable\"\n",
    "x = \"Hello\"\n",
    "print(f\"          id(\\\"Hello\\\") == {id(x) % 10000}\")\n",
    "\n",
    "x += \", World\"\n",
    "print(f\"   id(\\\"Hello, World\\\") == {id(x) % 10000}\")"
   ]
  },
  {
   "cell_type": "code",
   "execution_count": 195,
   "metadata": {},
   "outputs": [
    {
     "name": "stdout",
     "output_type": "stream",
     "text": [
      "   id(x) == 1840\n",
      "   id(x) == 1840\n"
     ]
    }
   ],
   "source": [
    "# CPython optimises if buffer big enough and no other references\n",
    "print(f\"   id(x) == {id(x) % 10000}\")\n",
    "\n",
    "x += \"!\"\n",
    "print(f\"   id(x) == {id(x) % 10000}\")"
   ]
  },
  {
   "cell_type": "code",
   "execution_count": 196,
   "metadata": {},
   "outputs": [
    {
     "name": "stdout",
     "output_type": "stream",
     "text": [
      "   id(x) == 1840\n",
      "   id(x) == 8400\n"
     ]
    }
   ],
   "source": [
    "y = x\n",
    "\n",
    "print(f\"   id(x) == {id(x) % 10000}\")\n",
    "\n",
    "x += \"!\"\n",
    "print(f\"   id(x) == {id(x) % 10000}\")"
   ]
  },
  {
   "cell_type": "markdown",
   "metadata": {},
   "source": [
    "* Literals are immutable (ish)...\n",
    "* Peep-hole optimisation...\n",
    "* Interning sometimes...\n",
    "* Interning makes comparisons fast\n"
   ]
  }
 ],
 "metadata": {
  "kernelspec": {
   "display_name": "Python 3.9.13 ('base')",
   "language": "python",
   "name": "python3"
  },
  "language_info": {
   "codemirror_mode": {
    "name": "ipython",
    "version": 3
   },
   "file_extension": ".py",
   "mimetype": "text/x-python",
   "name": "python",
   "nbconvert_exporter": "python",
   "pygments_lexer": "ipython3",
   "version": "3.9.13"
  },
  "orig_nbformat": 4,
  "vscode": {
   "interpreter": {
    "hash": "8555768d91e54506f6af55e249b41e64187c452b0d31215b1a771c99ce404d35"
   }
  }
 },
 "nbformat": 4,
 "nbformat_minor": 2
}
